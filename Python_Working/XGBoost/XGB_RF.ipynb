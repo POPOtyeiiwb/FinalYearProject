{
 "cells": [
  {
   "cell_type": "code",
   "execution_count": 49,
   "metadata": {},
   "outputs": [],
   "source": [
    "import datetime as dt\n",
    "import pandas as pd\n",
    "from pandas import Series, DataFrame\n",
    "import numpy as np\n",
    "import seaborn as sns\n",
    "from matplotlib import pyplot as plt\n",
    "from sklearn.cross_validation import  train_test_split\n",
    "import xgboost as xgb\n",
    "pd.options.mode.chained_assignment = None"
   ]
  },
  {
   "cell_type": "code",
   "execution_count": 50,
   "metadata": {},
   "outputs": [],
   "source": [
    "def is_nan(val):\n",
    "    return val != val\n",
    "\n",
    "def less_than_ten(val):\n",
    "    if int(val) < 10:\n",
    "        return \"0\" + val\n",
    "    else:\n",
    "        return val"
   ]
  },
  {
   "cell_type": "code",
   "execution_count": 51,
   "metadata": {},
   "outputs": [
    {
     "data": {
      "text/plain": [
       "'D:\\\\Semester 2 (Final)\\\\FYP (Final)\\\\Dataset\\\\Rossman\\\\Working\\\\Modelling_dataset'"
      ]
     },
     "execution_count": 51,
     "metadata": {},
     "output_type": "execute_result"
    }
   ],
   "source": [
    "pwd"
   ]
  },
  {
   "cell_type": "code",
   "execution_count": 52,
   "metadata": {},
   "outputs": [],
   "source": [
    "import os\n",
    "os.chdir ('D:\\Semester 2 (Final)\\FYP (Final)\\Dataset\\Rossman\\Working\\Modelling_dataset')"
   ]
  },
  {
   "cell_type": "code",
   "execution_count": 53,
   "metadata": {},
   "outputs": [],
   "source": [
    "train_store = pd.read_csv(\"ModellingTrainData2.csv\")\n",
    "test_store = pd.read_csv(\"ModellingTestData2.csv\")"
   ]
  },
  {
   "cell_type": "markdown",
   "metadata": {},
   "source": [
    "###### Remove all Closed Stores where Sales = 0 in train dataset"
   ]
  },
  {
   "cell_type": "code",
   "execution_count": 54,
   "metadata": {},
   "outputs": [],
   "source": [
    "train_store = train_store[train_store[\"Open\"] != 0]"
   ]
  },
  {
   "cell_type": "markdown",
   "metadata": {},
   "source": [
    "###### Save IDs of Closed Stores (\"Sales\" = 0 assigned later) & Remove Rows"
   ]
  },
  {
   "cell_type": "code",
   "execution_count": 55,
   "metadata": {},
   "outputs": [],
   "source": [
    "closed_store_ids =test_store[\"Id\"][test_store[\"Open\"] == 0].values\n",
    "test_store = test_store[test_store[\"Open\"] != 0]"
   ]
  },
  {
   "cell_type": "markdown",
   "metadata": {},
   "source": [
    "###### Log_Competition Distance"
   ]
  },
  {
   "cell_type": "markdown",
   "metadata": {},
   "source": [
    "###### train dataset"
   ]
  },
  {
   "cell_type": "code",
   "execution_count": 56,
   "metadata": {},
   "outputs": [],
   "source": [
    "LogCompetition = train_store['CompetitionDistance']\n",
    "train_store = train_store.drop(['CompetitionDistance'], axis=1)"
   ]
  },
  {
   "cell_type": "code",
   "execution_count": 57,
   "metadata": {},
   "outputs": [
    {
     "data": {
      "text/plain": [
       "0    7.147559\n",
       "1    7.147559\n",
       "2    7.147559\n",
       "3    7.147559\n",
       "4    7.147559\n",
       "Name: CompetitionDistance, dtype: float64"
      ]
     },
     "execution_count": 57,
     "metadata": {},
     "output_type": "execute_result"
    }
   ],
   "source": [
    "LogCompetition = np.log(LogCompetition + 1)\n",
    "LogCompetition.head()"
   ]
  },
  {
   "cell_type": "code",
   "execution_count": 58,
   "metadata": {},
   "outputs": [],
   "source": [
    "train_store['CompetitionDistance'] = LogCompetition "
   ]
  },
  {
   "cell_type": "markdown",
   "metadata": {},
   "source": [
    "###### test dataset"
   ]
  },
  {
   "cell_type": "code",
   "execution_count": 59,
   "metadata": {},
   "outputs": [
    {
     "data": {
      "text/plain": [
       "0    7.147559\n",
       "1    7.147559\n",
       "2    7.147559\n",
       "3    7.147559\n",
       "5    7.147559\n",
       "Name: CompetitionDistance, dtype: float64"
      ]
     },
     "execution_count": 59,
     "metadata": {},
     "output_type": "execute_result"
    }
   ],
   "source": [
    "LogCompetition2 = test_store['CompetitionDistance']\n",
    "test_store = test_store.drop(['CompetitionDistance'], axis=1)\n",
    "LogCompetition2 = np.log(LogCompetition2 + 1)\n",
    "LogCompetition2.head()"
   ]
  },
  {
   "cell_type": "code",
   "execution_count": 60,
   "metadata": {},
   "outputs": [],
   "source": [
    "test_store['CompetitionDistance'] = LogCompetition2 "
   ]
  },
  {
   "cell_type": "markdown",
   "metadata": {},
   "source": [
    "###### Drop Customer and Open feature"
   ]
  },
  {
   "cell_type": "code",
   "execution_count": 61,
   "metadata": {},
   "outputs": [],
   "source": [
    "train_store = train_store.drop(['Customers'], axis=1)"
   ]
  },
  {
   "cell_type": "code",
   "execution_count": 62,
   "metadata": {},
   "outputs": [],
   "source": [
    "train_store = train_store.drop(['Open'], axis=1)"
   ]
  },
  {
   "cell_type": "code",
   "execution_count": 63,
   "metadata": {},
   "outputs": [],
   "source": [
    "test_store = test_store.drop(['Open'], axis=1)"
   ]
  },
  {
   "cell_type": "markdown",
   "metadata": {},
   "source": [
    "###### Selecting top 13 feature  from Correlation"
   ]
  },
  {
   "cell_type": "markdown",
   "metadata": {},
   "source": [
    "##### Train"
   ]
  },
  {
   "cell_type": "code",
   "execution_count": 64,
   "metadata": {},
   "outputs": [],
   "source": [
    "#train_store = train_store.drop(['SchoolHoliday_1','SchoolHoliday_0'], axis=1)"
   ]
  },
  {
   "cell_type": "code",
   "execution_count": 65,
   "metadata": {},
   "outputs": [],
   "source": [
    "#train_store = train_store.drop(['Promo2SinceWeek'], axis=1)"
   ]
  },
  {
   "cell_type": "code",
   "execution_count": 66,
   "metadata": {},
   "outputs": [],
   "source": [
    "#train_store = train_store.drop(['CompetitionDistance'], axis=1)"
   ]
  },
  {
   "cell_type": "code",
   "execution_count": 67,
   "metadata": {},
   "outputs": [],
   "source": [
    "#train_store = train_store.drop(['CompetitionOpenSinceMonth'], axis=1)"
   ]
  },
  {
   "cell_type": "code",
   "execution_count": 68,
   "metadata": {},
   "outputs": [],
   "source": [
    "#train_store = train_store.drop(['Month'], axis=1)"
   ]
  },
  {
   "cell_type": "code",
   "execution_count": 69,
   "metadata": {},
   "outputs": [],
   "source": [
    "#train_store = train_store.drop(['DayOfYear'], axis=1)"
   ]
  },
  {
   "cell_type": "code",
   "execution_count": 70,
   "metadata": {},
   "outputs": [],
   "source": [
    "train_store = train_store.drop(['StateHoliday_b','StateHoliday_c'], axis=1)"
   ]
  },
  {
   "cell_type": "code",
   "execution_count": 71,
   "metadata": {},
   "outputs": [],
   "source": [
    "#train_store = train_store.drop(['StateHoliday_0','StateHoliday_a'], axis=1)"
   ]
  },
  {
   "cell_type": "code",
   "execution_count": 72,
   "metadata": {},
   "outputs": [],
   "source": [
    "#train_store = train_store.drop(['Promo2SinceYear'], axis=1)"
   ]
  },
  {
   "cell_type": "code",
   "execution_count": 73,
   "metadata": {},
   "outputs": [],
   "source": [
    "#train_store = train_store.drop(['AvgSalesPerCustomer'], axis=1)"
   ]
  },
  {
   "cell_type": "code",
   "execution_count": 74,
   "metadata": {},
   "outputs": [],
   "source": [
    "#train_store = train_store.drop(['Promo2'], axis=1)"
   ]
  },
  {
   "cell_type": "code",
   "execution_count": 75,
   "metadata": {},
   "outputs": [],
   "source": [
    "#train_store = train_store.drop(['PromoInterval_0','PromoInterval_Feb,May,Aug,Nov','PromoInterval_Jan,Apr,Jul,Oct','PromoInterval_Mar,Jun,Sept,Dec'], axis=1)"
   ]
  },
  {
   "cell_type": "code",
   "execution_count": 76,
   "metadata": {},
   "outputs": [],
   "source": [
    "#train_store = train_store.drop(['Assortment_a','Assortment_b','Assortment_c'], axis=1)"
   ]
  },
  {
   "cell_type": "code",
   "execution_count": 77,
   "metadata": {},
   "outputs": [],
   "source": [
    "#train_store = train_store.drop(['DayOfWeek_2','DayOfWeek_4','DayOfWeek_5','DayOfWeek_6','DayOfWeek_7'], axis=1)"
   ]
  },
  {
   "cell_type": "code",
   "execution_count": null,
   "metadata": {},
   "outputs": [],
   "source": []
  },
  {
   "cell_type": "markdown",
   "metadata": {},
   "source": [
    "##### test"
   ]
  },
  {
   "cell_type": "code",
   "execution_count": 78,
   "metadata": {},
   "outputs": [],
   "source": [
    "#test_store = test_store.drop(['SchoolHoliday_1','SchoolHoliday_0'], axis=1)"
   ]
  },
  {
   "cell_type": "code",
   "execution_count": 79,
   "metadata": {},
   "outputs": [],
   "source": [
    "#test_store = test_store.drop(['Year'], axis=1)"
   ]
  },
  {
   "cell_type": "code",
   "execution_count": 80,
   "metadata": {},
   "outputs": [],
   "source": [
    "#test_store = test_store.drop(['CompetitionDistance'], axis=1)"
   ]
  },
  {
   "cell_type": "code",
   "execution_count": 81,
   "metadata": {},
   "outputs": [],
   "source": [
    "#test_store = test_store.drop(['CompetitionOpenSinceMonth'], axis=1)"
   ]
  },
  {
   "cell_type": "code",
   "execution_count": 82,
   "metadata": {},
   "outputs": [],
   "source": [
    "#test_store = test_store.drop(['Month'], axis=1)"
   ]
  },
  {
   "cell_type": "code",
   "execution_count": 83,
   "metadata": {},
   "outputs": [],
   "source": [
    "#test_store = test_store.drop(['DayOfYear'], axis=1)"
   ]
  },
  {
   "cell_type": "code",
   "execution_count": 84,
   "metadata": {},
   "outputs": [],
   "source": [
    "#test_store = test_store.drop(['StateHoliday_0','StateHoliday_a'], axis=1)"
   ]
  },
  {
   "cell_type": "code",
   "execution_count": 85,
   "metadata": {},
   "outputs": [],
   "source": [
    "#test_store = test_store.drop(['AvgSalesPerCustomer'], axis=1)"
   ]
  },
  {
   "cell_type": "code",
   "execution_count": 86,
   "metadata": {},
   "outputs": [],
   "source": [
    "#test_store = test_store.drop(['Promo2SinceYear'], axis=1)"
   ]
  },
  {
   "cell_type": "code",
   "execution_count": 87,
   "metadata": {},
   "outputs": [],
   "source": [
    "#test_store = test_store.drop(['Promo2'], axis=1)"
   ]
  },
  {
   "cell_type": "code",
   "execution_count": 88,
   "metadata": {},
   "outputs": [],
   "source": [
    "#test_store = test_store.drop(['PromoInterval_Feb,May,Aug,Nov','PromoInterval_Jan,Apr,Jul,Oct','PromoInterval_Mar,Jun,Sept,Dec'], axis=1)"
   ]
  },
  {
   "cell_type": "code",
   "execution_count": 89,
   "metadata": {},
   "outputs": [],
   "source": [
    "#test_store = test_store.drop(['PromoInterval_0'], axis=1)"
   ]
  },
  {
   "cell_type": "code",
   "execution_count": 90,
   "metadata": {},
   "outputs": [],
   "source": [
    "#test_store = test_store.drop(['Assortment_a','Assortment_b','Assortment_c'], axis=1)"
   ]
  },
  {
   "cell_type": "code",
   "execution_count": 91,
   "metadata": {},
   "outputs": [],
   "source": [
    "#test_store = test_store.drop(['SchoolHoliday_1','SchoolHoliday_0'], axis=1)"
   ]
  },
  {
   "cell_type": "code",
   "execution_count": 92,
   "metadata": {},
   "outputs": [],
   "source": [
    "#test_store = test_store.drop(['Promo2SinceWeek'], axis=1)"
   ]
  },
  {
   "cell_type": "code",
   "execution_count": 93,
   "metadata": {},
   "outputs": [],
   "source": [
    "#test_store = test_store.drop(['DayOfWeek_2','DayOfWeek_4','DayOfWeek_5','DayOfWeek_6','DayOfWeek_7'], axis=1)"
   ]
  },
  {
   "cell_type": "code",
   "execution_count": null,
   "metadata": {},
   "outputs": [],
   "source": []
  },
  {
   "cell_type": "code",
   "execution_count": 94,
   "metadata": {},
   "outputs": [
    {
     "name": "stdout",
     "output_type": "stream",
     "text": [
      "Index(['Store', 'Sales', 'Promo', 'CompetitionOpenSinceMonth',\n",
      "       'CompetitionOpenSinceYear', 'Promo2', 'Promo2SinceWeek',\n",
      "       'Promo2SinceYear', 'Year', 'Month', 'Day', 'DayOfYear', 'Week',\n",
      "       'DayOfWeek_1', 'DayOfWeek_2', 'DayOfWeek_3', 'DayOfWeek_4',\n",
      "       'DayOfWeek_5', 'DayOfWeek_6', 'DayOfWeek_7', 'StateHoliday_0',\n",
      "       'StateHoliday_a', 'StoreType_a', 'StoreType_b', 'StoreType_c',\n",
      "       'StoreType_d', 'Assortment_a', 'Assortment_b', 'Assortment_c',\n",
      "       'SchoolHoliday_0', 'SchoolHoliday_1', 'PromoInterval_0',\n",
      "       'PromoInterval_Feb,May,Aug,Nov', 'PromoInterval_Jan,Apr,Jul,Oct',\n",
      "       'PromoInterval_Mar,Jun,Sept,Dec', 'AvgSalesPerCustomer',\n",
      "       'AvgSalesPerStore', 'AvgCustStore', 'AvgCustStoreMonth',\n",
      "       'AvgCustStoreYear', 'CompetitionDistance'],\n",
      "      dtype='object')\n"
     ]
    }
   ],
   "source": [
    "print(train_store.keys())"
   ]
  },
  {
   "cell_type": "code",
   "execution_count": 95,
   "metadata": {},
   "outputs": [
    {
     "name": "stdout",
     "output_type": "stream",
     "text": [
      "Index(['Id', 'Store', 'Promo', 'CompetitionOpenSinceMonth',\n",
      "       'CompetitionOpenSinceYear', 'Promo2', 'Promo2SinceWeek',\n",
      "       'Promo2SinceYear', 'Year', 'Month', 'Day', 'DayOfYear', 'Week',\n",
      "       'DayOfWeek_1', 'DayOfWeek_2', 'DayOfWeek_3', 'DayOfWeek_4',\n",
      "       'DayOfWeek_5', 'DayOfWeek_6', 'DayOfWeek_7', 'StateHoliday_0',\n",
      "       'StateHoliday_a', 'StoreType_a', 'StoreType_b', 'StoreType_c',\n",
      "       'StoreType_d', 'Assortment_a', 'Assortment_b', 'Assortment_c',\n",
      "       'SchoolHoliday_0', 'SchoolHoliday_1', 'PromoInterval_0',\n",
      "       'PromoInterval_Feb,May,Aug,Nov', 'PromoInterval_Jan,Apr,Jul,Oct',\n",
      "       'PromoInterval_Mar,Jun,Sept,Dec', 'AvgSalesPerCustomer',\n",
      "       'AvgSalesPerStore', 'AvgCustStore', 'AvgCustStoreMonth',\n",
      "       'AvgCustStoreYear', 'CompetitionDistance'],\n",
      "      dtype='object')\n"
     ]
    }
   ],
   "source": [
    "print(test_store.keys())"
   ]
  },
  {
   "cell_type": "code",
   "execution_count": null,
   "metadata": {},
   "outputs": [],
   "source": []
  },
  {
   "cell_type": "code",
   "execution_count": null,
   "metadata": {},
   "outputs": [],
   "source": []
  },
  {
   "cell_type": "code",
   "execution_count": 96,
   "metadata": {},
   "outputs": [
    {
     "name": "stdout",
     "output_type": "stream",
     "text": [
      "(513588, 40) (513588,)\n",
      "(128397, 40) (128397,)\n"
     ]
    }
   ],
   "source": [
    "X = train_store.drop('Sales', axis=1)\n",
    "y = train_store['Sales']\n",
    "y = np.log(y + 1)\n",
    "test = test_store.copy()\n",
    "data_dmatrix = xgb.DMatrix(data=X,label=y)\n",
    "\n",
    "X_train, X_test, y_train, y_test = train_test_split(X, y, test_size=0.2, random_state=42)\n",
    "print(X_train.shape, y_train.shape)\n",
    "print (X_test.shape, y_test.shape)"
   ]
  },
  {
   "cell_type": "code",
   "execution_count": 97,
   "metadata": {},
   "outputs": [],
   "source": [
    "from sklearn.cross_validation import cross_val_score, cross_val_predict\n",
    "from sklearn import metrics"
   ]
  },
  {
   "cell_type": "code",
   "execution_count": 98,
   "metadata": {},
   "outputs": [
    {
     "name": "stdout",
     "output_type": "stream",
     "text": [
      "Cross-validated scores: [0.75133402 0.85673896 0.84117666 0.84464941 0.78729252]\n",
      "0.8162383142162373\n"
     ]
    }
   ],
   "source": [
    "model = xgb.XGBRegressor(base_score=0.5, booster='gbtree', colsample_bylevel=1,\n",
    "       colsample_bytree=0.3, gamma=0, learning_rate=0.1, max_delta_step=0,\n",
    "       max_depth=13, min_child_weight=1, missing=None, n_estimators=1000,\n",
    "       n_jobs=-1, nthread=-1, objective='reg:linear', random_state=42,\n",
    "       reg_alpha=0, reg_lambda=1, scale_pos_weight=1, seed=None,\n",
    "       silent=1, subsample=1)\n",
    "scores = cross_val_score(model, X, y, cv=5, scoring =\"r2\")\n",
    "print (\"Cross-validated scores:\", scores)\n",
    "print(scores.mean())"
   ]
  },
  {
   "cell_type": "code",
   "execution_count": 99,
   "metadata": {},
   "outputs": [
    {
     "data": {
      "text/plain": [
       "XGBRegressor(base_score=0.5, booster='gbtree', colsample_bylevel=1,\n",
       "       colsample_bytree=0.3, gamma=0, learning_rate=0.1, max_delta_step=0,\n",
       "       max_depth=13, min_child_weight=1, missing=None, n_estimators=1000,\n",
       "       n_jobs=-1, nthread=-1, objective='reg:linear', random_state=42,\n",
       "       reg_alpha=0, reg_lambda=1, scale_pos_weight=1, seed=None, silent=1,\n",
       "       subsample=1)"
      ]
     },
     "execution_count": 99,
     "metadata": {},
     "output_type": "execute_result"
    }
   ],
   "source": [
    "model.fit(X_train, y_train)"
   ]
  },
  {
   "cell_type": "code",
   "execution_count": 100,
   "metadata": {},
   "outputs": [],
   "source": [
    "yr = model.predict(X_test)"
   ]
  },
  {
   "cell_type": "code",
   "execution_count": 101,
   "metadata": {},
   "outputs": [],
   "source": [
    "def rmspe(y_true, y_pred):\n",
    "    w = np.zeros(y_true.shape, dtype=float)\n",
    "    index = y_true != 0\n",
    "    w[index] = 1.0 / (y_true[index])\n",
    "    diff = y_true - y_pred\n",
    "    diff_percentage = diff * w\n",
    "    diff_percentage_squared = diff_percentage ** 2\n",
    "    rmspe = np.sqrt(np.mean(diff_percentage_squared))\n",
    "    return rmspe"
   ]
  },
  {
   "cell_type": "code",
   "execution_count": 102,
   "metadata": {},
   "outputs": [
    {
     "name": "stdout",
     "output_type": "stream",
     "text": [
      "RMSPE: 0.01141291651060193\n"
     ]
    }
   ],
   "source": [
    "print(\"RMSPE: \" + str(rmspe(y_true=y_test, y_pred=yr)))"
   ]
  },
  {
   "cell_type": "markdown",
   "metadata": {},
   "source": [
    "###### Convert to actual value from Logarithm "
   ]
  },
  {
   "cell_type": "code",
   "execution_count": 103,
   "metadata": {},
   "outputs": [],
   "source": [
    "yr = np.exp(yr) - 1"
   ]
  },
  {
   "cell_type": "code",
   "execution_count": 104,
   "metadata": {},
   "outputs": [],
   "source": [
    "y_test = np.exp(y_test) - 1"
   ]
  },
  {
   "cell_type": "code",
   "execution_count": 105,
   "metadata": {},
   "outputs": [
    {
     "name": "stdout",
     "output_type": "stream",
     "text": [
      "RMSPE: 0.09991037485110159\n"
     ]
    }
   ],
   "source": [
    "print(\"RMSPE: \" + str(rmspe(y_true=y_test, y_pred=yr)))"
   ]
  },
  {
   "cell_type": "code",
   "execution_count": null,
   "metadata": {},
   "outputs": [],
   "source": []
  },
  {
   "cell_type": "markdown",
   "metadata": {},
   "source": [
    "###### Submission"
   ]
  },
  {
   "cell_type": "code",
   "execution_count": 106,
   "metadata": {},
   "outputs": [],
   "source": [
    "store_ids = test[\"Id\"]\n",
    "test.drop([\"Id\"], axis=1, inplace=True)\n",
    "test = test.reindex(columns=X_train.columns, fill_value=0)\n",
    "yr = model.predict(test)\n",
    "yr = np.exp(yr) - 1"
   ]
  },
  {
   "cell_type": "code",
   "execution_count": 107,
   "metadata": {},
   "outputs": [],
   "source": [
    "predictions = Series()"
   ]
  },
  {
   "cell_type": "code",
   "execution_count": 108,
   "metadata": {},
   "outputs": [],
   "source": [
    "predictions = predictions.append(Series(yr, index=store_ids))\n",
    "predictions = predictions.append(Series(0, index=closed_store_ids))"
   ]
  },
  {
   "cell_type": "code",
   "execution_count": 109,
   "metadata": {},
   "outputs": [
    {
     "name": "stdout",
     "output_type": "stream",
     "text": [
      "Predictions saved.\n"
     ]
    }
   ],
   "source": [
    "submission = pd.DataFrame({\"Id\": predictions.index, \"Sales\": predictions.values})\n",
    "submission.to_csv(\"Submission/XGB_RF.csv\", index=False)\n",
    "print(\"Predictions saved.\")"
   ]
  },
  {
   "cell_type": "code",
   "execution_count": null,
   "metadata": {},
   "outputs": [],
   "source": []
  },
  {
   "cell_type": "code",
   "execution_count": null,
   "metadata": {},
   "outputs": [],
   "source": []
  }
 ],
 "metadata": {
  "kernelspec": {
   "display_name": "Python 3",
   "language": "python",
   "name": "python3"
  },
  "language_info": {
   "codemirror_mode": {
    "name": "ipython",
    "version": 3
   },
   "file_extension": ".py",
   "mimetype": "text/x-python",
   "name": "python",
   "nbconvert_exporter": "python",
   "pygments_lexer": "ipython3",
   "version": "3.6.5"
  }
 },
 "nbformat": 4,
 "nbformat_minor": 2
}
