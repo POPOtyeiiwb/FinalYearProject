{
 "cells": [
  {
   "cell_type": "code",
   "execution_count": 128,
   "metadata": {},
   "outputs": [],
   "source": [
    "import datetime as dt\n",
    "import pandas as pd\n",
    "from pandas import Series, DataFrame\n",
    "import numpy as np\n",
    "from matplotlib import pyplot as plt\n",
    "from sklearn.cross_validation import  train_test_split\n",
    "import xgboost as xgb\n",
    "pd.options.mode.chained_assignment = None"
   ]
  },
  {
   "cell_type": "code",
   "execution_count": 129,
   "metadata": {},
   "outputs": [],
   "source": [
    "def is_nan(val):\n",
    "    return val != val\n",
    "\n",
    "def less_than_ten(val):\n",
    "    if int(val) < 10:\n",
    "        return \"0\" + val\n",
    "    else:\n",
    "        return val"
   ]
  },
  {
   "cell_type": "code",
   "execution_count": 130,
   "metadata": {},
   "outputs": [
    {
     "data": {
      "text/plain": [
       "'D:\\\\Semester 2 (Final)\\\\FYP (Final)\\\\Dataset\\\\Rossman\\\\Working\\\\Modelling_dataset'"
      ]
     },
     "execution_count": 130,
     "metadata": {},
     "output_type": "execute_result"
    }
   ],
   "source": [
    "pwd"
   ]
  },
  {
   "cell_type": "code",
   "execution_count": 131,
   "metadata": {},
   "outputs": [],
   "source": [
    "import os\n",
    "os.chdir ('D:\\Semester 2 (Final)\\FYP (Final)\\Dataset\\Rossman\\Working\\Modelling_dataset')"
   ]
  },
  {
   "cell_type": "code",
   "execution_count": 132,
   "metadata": {},
   "outputs": [],
   "source": [
    "train_store = pd.read_csv(\"ModellingTrainData2.csv\")\n",
    "test_store = pd.read_csv(\"ModellingTestData2.csv\")"
   ]
  },
  {
   "cell_type": "markdown",
   "metadata": {},
   "source": [
    "###### Remove all Closed Stores where Sales = 0 in train dataset"
   ]
  },
  {
   "cell_type": "code",
   "execution_count": 133,
   "metadata": {},
   "outputs": [],
   "source": [
    "train_store = train_store[train_store[\"Open\"] != 0]"
   ]
  },
  {
   "cell_type": "markdown",
   "metadata": {},
   "source": [
    "###### Save IDs of Closed Stores (\"Sales\" = 0 assigned later) & Remove Rows"
   ]
  },
  {
   "cell_type": "code",
   "execution_count": 134,
   "metadata": {},
   "outputs": [],
   "source": [
    "closed_store_ids =test_store[\"Id\"][test_store[\"Open\"] == 0].values\n",
    "test_store = test_store[test_store[\"Open\"] != 0]"
   ]
  },
  {
   "cell_type": "code",
   "execution_count": null,
   "metadata": {},
   "outputs": [],
   "source": []
  },
  {
   "cell_type": "markdown",
   "metadata": {},
   "source": [
    "###### Log_Competition Distance"
   ]
  },
  {
   "cell_type": "markdown",
   "metadata": {},
   "source": [
    "###### train dataset"
   ]
  },
  {
   "cell_type": "code",
   "execution_count": 135,
   "metadata": {},
   "outputs": [],
   "source": [
    "LogCompetition = train_store['CompetitionDistance']\n",
    "train_store = train_store.drop(['CompetitionDistance'], axis=1)"
   ]
  },
  {
   "cell_type": "code",
   "execution_count": 136,
   "metadata": {},
   "outputs": [
    {
     "data": {
      "text/plain": [
       "0    7.147559\n",
       "1    7.147559\n",
       "2    7.147559\n",
       "3    7.147559\n",
       "4    7.147559\n",
       "Name: CompetitionDistance, dtype: float64"
      ]
     },
     "execution_count": 136,
     "metadata": {},
     "output_type": "execute_result"
    }
   ],
   "source": [
    "LogCompetition = np.log(LogCompetition + 1)\n",
    "LogCompetition.head()"
   ]
  },
  {
   "cell_type": "code",
   "execution_count": 137,
   "metadata": {},
   "outputs": [],
   "source": [
    "train_store['CompetitionDistance'] = LogCompetition "
   ]
  },
  {
   "cell_type": "markdown",
   "metadata": {},
   "source": [
    "###### test dataset"
   ]
  },
  {
   "cell_type": "code",
   "execution_count": 138,
   "metadata": {},
   "outputs": [
    {
     "data": {
      "text/plain": [
       "0    7.147559\n",
       "1    7.147559\n",
       "2    7.147559\n",
       "3    7.147559\n",
       "5    7.147559\n",
       "Name: CompetitionDistance, dtype: float64"
      ]
     },
     "execution_count": 138,
     "metadata": {},
     "output_type": "execute_result"
    }
   ],
   "source": [
    "LogCompetition2 = test_store['CompetitionDistance']\n",
    "test_store = test_store.drop(['CompetitionDistance'], axis=1)\n",
    "LogCompetition2 = np.log(LogCompetition2 + 1)\n",
    "LogCompetition2.head()"
   ]
  },
  {
   "cell_type": "code",
   "execution_count": 139,
   "metadata": {},
   "outputs": [],
   "source": [
    "test_store['CompetitionDistance'] = LogCompetition2 "
   ]
  },
  {
   "cell_type": "markdown",
   "metadata": {},
   "source": [
    "###### Drop Customer and Open feature"
   ]
  },
  {
   "cell_type": "code",
   "execution_count": 140,
   "metadata": {},
   "outputs": [],
   "source": [
    "train_store = train_store.drop(['Customers'], axis=1)"
   ]
  },
  {
   "cell_type": "code",
   "execution_count": 141,
   "metadata": {},
   "outputs": [],
   "source": [
    "train_store = train_store.drop(['Open'], axis=1)"
   ]
  },
  {
   "cell_type": "code",
   "execution_count": 142,
   "metadata": {},
   "outputs": [],
   "source": [
    "test_store = test_store.drop(['Open'], axis=1)"
   ]
  },
  {
   "cell_type": "code",
   "execution_count": 143,
   "metadata": {},
   "outputs": [
    {
     "data": {
      "text/html": [
       "<div>\n",
       "<style scoped>\n",
       "    .dataframe tbody tr th:only-of-type {\n",
       "        vertical-align: middle;\n",
       "    }\n",
       "\n",
       "    .dataframe tbody tr th {\n",
       "        vertical-align: top;\n",
       "    }\n",
       "\n",
       "    .dataframe thead th {\n",
       "        text-align: right;\n",
       "    }\n",
       "</style>\n",
       "<table border=\"1\" class=\"dataframe\">\n",
       "  <thead>\n",
       "    <tr style=\"text-align: right;\">\n",
       "      <th></th>\n",
       "      <th>Store</th>\n",
       "      <th>Sales</th>\n",
       "      <th>Promo</th>\n",
       "      <th>CompetitionOpenSinceMonth</th>\n",
       "      <th>CompetitionOpenSinceYear</th>\n",
       "      <th>Promo2</th>\n",
       "      <th>Promo2SinceWeek</th>\n",
       "      <th>Promo2SinceYear</th>\n",
       "      <th>Year</th>\n",
       "      <th>Month</th>\n",
       "      <th>...</th>\n",
       "      <th>PromoInterval_0</th>\n",
       "      <th>PromoInterval_Feb,May,Aug,Nov</th>\n",
       "      <th>PromoInterval_Jan,Apr,Jul,Oct</th>\n",
       "      <th>PromoInterval_Mar,Jun,Sept,Dec</th>\n",
       "      <th>AvgSalesPerCustomer</th>\n",
       "      <th>AvgSalesPerStore</th>\n",
       "      <th>AvgCustStore</th>\n",
       "      <th>AvgCustStoreMonth</th>\n",
       "      <th>AvgCustStoreYear</th>\n",
       "      <th>CompetitionDistance</th>\n",
       "    </tr>\n",
       "  </thead>\n",
       "  <tbody>\n",
       "    <tr>\n",
       "      <th>0</th>\n",
       "      <td>1</td>\n",
       "      <td>5263</td>\n",
       "      <td>1</td>\n",
       "      <td>9.0</td>\n",
       "      <td>2008.0</td>\n",
       "      <td>0</td>\n",
       "      <td>0.0</td>\n",
       "      <td>0.0</td>\n",
       "      <td>2015</td>\n",
       "      <td>7</td>\n",
       "      <td>...</td>\n",
       "      <td>1</td>\n",
       "      <td>0</td>\n",
       "      <td>0</td>\n",
       "      <td>0</td>\n",
       "      <td>8.437366</td>\n",
       "      <td>3945.704883</td>\n",
       "      <td>564.049936</td>\n",
       "      <td>547.68</td>\n",
       "      <td>531.171429</td>\n",
       "      <td>7.147559</td>\n",
       "    </tr>\n",
       "    <tr>\n",
       "      <th>1</th>\n",
       "      <td>1</td>\n",
       "      <td>5020</td>\n",
       "      <td>1</td>\n",
       "      <td>9.0</td>\n",
       "      <td>2008.0</td>\n",
       "      <td>0</td>\n",
       "      <td>0.0</td>\n",
       "      <td>0.0</td>\n",
       "      <td>2015</td>\n",
       "      <td>7</td>\n",
       "      <td>...</td>\n",
       "      <td>1</td>\n",
       "      <td>0</td>\n",
       "      <td>0</td>\n",
       "      <td>0</td>\n",
       "      <td>8.437366</td>\n",
       "      <td>3945.704883</td>\n",
       "      <td>564.049936</td>\n",
       "      <td>547.68</td>\n",
       "      <td>531.171429</td>\n",
       "      <td>7.147559</td>\n",
       "    </tr>\n",
       "    <tr>\n",
       "      <th>2</th>\n",
       "      <td>1</td>\n",
       "      <td>4782</td>\n",
       "      <td>1</td>\n",
       "      <td>9.0</td>\n",
       "      <td>2008.0</td>\n",
       "      <td>0</td>\n",
       "      <td>0.0</td>\n",
       "      <td>0.0</td>\n",
       "      <td>2015</td>\n",
       "      <td>7</td>\n",
       "      <td>...</td>\n",
       "      <td>1</td>\n",
       "      <td>0</td>\n",
       "      <td>0</td>\n",
       "      <td>0</td>\n",
       "      <td>8.437366</td>\n",
       "      <td>3945.704883</td>\n",
       "      <td>564.049936</td>\n",
       "      <td>547.68</td>\n",
       "      <td>531.171429</td>\n",
       "      <td>7.147559</td>\n",
       "    </tr>\n",
       "    <tr>\n",
       "      <th>3</th>\n",
       "      <td>1</td>\n",
       "      <td>5011</td>\n",
       "      <td>1</td>\n",
       "      <td>9.0</td>\n",
       "      <td>2008.0</td>\n",
       "      <td>0</td>\n",
       "      <td>0.0</td>\n",
       "      <td>0.0</td>\n",
       "      <td>2015</td>\n",
       "      <td>7</td>\n",
       "      <td>...</td>\n",
       "      <td>1</td>\n",
       "      <td>0</td>\n",
       "      <td>0</td>\n",
       "      <td>0</td>\n",
       "      <td>8.437366</td>\n",
       "      <td>3945.704883</td>\n",
       "      <td>564.049936</td>\n",
       "      <td>547.68</td>\n",
       "      <td>531.171429</td>\n",
       "      <td>7.147559</td>\n",
       "    </tr>\n",
       "    <tr>\n",
       "      <th>4</th>\n",
       "      <td>1</td>\n",
       "      <td>6102</td>\n",
       "      <td>1</td>\n",
       "      <td>9.0</td>\n",
       "      <td>2008.0</td>\n",
       "      <td>0</td>\n",
       "      <td>0.0</td>\n",
       "      <td>0.0</td>\n",
       "      <td>2015</td>\n",
       "      <td>7</td>\n",
       "      <td>...</td>\n",
       "      <td>1</td>\n",
       "      <td>0</td>\n",
       "      <td>0</td>\n",
       "      <td>0</td>\n",
       "      <td>8.437366</td>\n",
       "      <td>3945.704883</td>\n",
       "      <td>564.049936</td>\n",
       "      <td>547.68</td>\n",
       "      <td>531.171429</td>\n",
       "      <td>7.147559</td>\n",
       "    </tr>\n",
       "  </tbody>\n",
       "</table>\n",
       "<p>5 rows × 43 columns</p>\n",
       "</div>"
      ],
      "text/plain": [
       "   Store  Sales  Promo  CompetitionOpenSinceMonth  CompetitionOpenSinceYear  \\\n",
       "0      1   5263      1                        9.0                    2008.0   \n",
       "1      1   5020      1                        9.0                    2008.0   \n",
       "2      1   4782      1                        9.0                    2008.0   \n",
       "3      1   5011      1                        9.0                    2008.0   \n",
       "4      1   6102      1                        9.0                    2008.0   \n",
       "\n",
       "   Promo2  Promo2SinceWeek  Promo2SinceYear  Year  Month         ...           \\\n",
       "0       0              0.0              0.0  2015      7         ...            \n",
       "1       0              0.0              0.0  2015      7         ...            \n",
       "2       0              0.0              0.0  2015      7         ...            \n",
       "3       0              0.0              0.0  2015      7         ...            \n",
       "4       0              0.0              0.0  2015      7         ...            \n",
       "\n",
       "   PromoInterval_0  PromoInterval_Feb,May,Aug,Nov  \\\n",
       "0                1                              0   \n",
       "1                1                              0   \n",
       "2                1                              0   \n",
       "3                1                              0   \n",
       "4                1                              0   \n",
       "\n",
       "   PromoInterval_Jan,Apr,Jul,Oct  PromoInterval_Mar,Jun,Sept,Dec  \\\n",
       "0                              0                               0   \n",
       "1                              0                               0   \n",
       "2                              0                               0   \n",
       "3                              0                               0   \n",
       "4                              0                               0   \n",
       "\n",
       "   AvgSalesPerCustomer  AvgSalesPerStore  AvgCustStore  AvgCustStoreMonth  \\\n",
       "0             8.437366       3945.704883    564.049936             547.68   \n",
       "1             8.437366       3945.704883    564.049936             547.68   \n",
       "2             8.437366       3945.704883    564.049936             547.68   \n",
       "3             8.437366       3945.704883    564.049936             547.68   \n",
       "4             8.437366       3945.704883    564.049936             547.68   \n",
       "\n",
       "   AvgCustStoreYear  CompetitionDistance  \n",
       "0        531.171429             7.147559  \n",
       "1        531.171429             7.147559  \n",
       "2        531.171429             7.147559  \n",
       "3        531.171429             7.147559  \n",
       "4        531.171429             7.147559  \n",
       "\n",
       "[5 rows x 43 columns]"
      ]
     },
     "execution_count": 143,
     "metadata": {},
     "output_type": "execute_result"
    }
   ],
   "source": [
    "train_store.head()"
   ]
  },
  {
   "cell_type": "code",
   "execution_count": 144,
   "metadata": {},
   "outputs": [
    {
     "data": {
      "text/plain": [
       "(641985, 43)"
      ]
     },
     "execution_count": 144,
     "metadata": {},
     "output_type": "execute_result"
    }
   ],
   "source": [
    "train_store.shape"
   ]
  },
  {
   "cell_type": "markdown",
   "metadata": {},
   "source": [
    "###### shape of train store is 43 because there is state_holiday_b and state_holiday_c which is not present in test dataset"
   ]
  },
  {
   "cell_type": "code",
   "execution_count": 145,
   "metadata": {},
   "outputs": [
    {
     "data": {
      "text/plain": [
       "(35104, 41)"
      ]
     },
     "execution_count": 145,
     "metadata": {},
     "output_type": "execute_result"
    }
   ],
   "source": [
    "test_store.shape"
   ]
  },
  {
   "cell_type": "markdown",
   "metadata": {},
   "source": [
    "###### Create dataframe of relief selected column"
   ]
  },
  {
   "cell_type": "markdown",
   "metadata": {},
   "source": [
    "##### train dataset"
   ]
  },
  {
   "cell_type": "code",
   "execution_count": 146,
   "metadata": {},
   "outputs": [],
   "source": [
    "#train_store = train_store.drop(['CompetitionDistance'], axis=1)"
   ]
  },
  {
   "cell_type": "code",
   "execution_count": 147,
   "metadata": {},
   "outputs": [],
   "source": [
    "#train_store = train_store.drop(['CompetitionOpenSinceYear'], axis=1)"
   ]
  },
  {
   "cell_type": "code",
   "execution_count": 148,
   "metadata": {},
   "outputs": [],
   "source": [
    "#train_store = train_store.drop(['CompetitionOpenSinceMonth'], axis=1)"
   ]
  },
  {
   "cell_type": "code",
   "execution_count": 149,
   "metadata": {},
   "outputs": [],
   "source": [
    "train_store = train_store.drop(['Promo2','Promo2SinceYear'], axis=1)"
   ]
  },
  {
   "cell_type": "code",
   "execution_count": 150,
   "metadata": {},
   "outputs": [],
   "source": [
    "#train_store = train_store.drop(['Promo2SinceWeek'], axis=1)"
   ]
  },
  {
   "cell_type": "code",
   "execution_count": 151,
   "metadata": {},
   "outputs": [],
   "source": [
    "#train_store = train_store.drop(['DayOfWeek_1','DayOfWeek_2','DayOfWeek_3','DayOfWeek_4','DayOfWeek_5','DayOfWeek_6','DayOfWeek_7'], axis=1)"
   ]
  },
  {
   "cell_type": "code",
   "execution_count": 152,
   "metadata": {},
   "outputs": [],
   "source": [
    "#train_store = train_store.drop(['Year','Month'], axis=1)"
   ]
  },
  {
   "cell_type": "code",
   "execution_count": 153,
   "metadata": {},
   "outputs": [],
   "source": [
    "#train_store = train_store.drop(['Day'], axis=1)"
   ]
  },
  {
   "cell_type": "code",
   "execution_count": 154,
   "metadata": {},
   "outputs": [],
   "source": [
    "train_store = train_store.drop(['SchoolHoliday_1'], axis=1)"
   ]
  },
  {
   "cell_type": "code",
   "execution_count": 155,
   "metadata": {},
   "outputs": [],
   "source": [
    "train_store = train_store.drop(['StoreType_c','StoreType_d'], axis=1)"
   ]
  },
  {
   "cell_type": "code",
   "execution_count": 156,
   "metadata": {},
   "outputs": [],
   "source": [
    "train_store = train_store.drop(['PromoInterval_0','PromoInterval_Feb,May,Aug,Nov','PromoInterval_Mar,Jun,Sept,Dec'], axis=1)"
   ]
  },
  {
   "cell_type": "code",
   "execution_count": 157,
   "metadata": {},
   "outputs": [],
   "source": [
    "#train_store = train_store.drop(['Assortment_a','Assortment_b','Assortment_c'], axis=1)"
   ]
  },
  {
   "cell_type": "code",
   "execution_count": 158,
   "metadata": {},
   "outputs": [],
   "source": [
    "train_store = train_store.drop(['StateHoliday_a'], axis=1)"
   ]
  },
  {
   "cell_type": "code",
   "execution_count": 159,
   "metadata": {},
   "outputs": [],
   "source": [
    "train_store = train_store.drop(['StateHoliday_b','StateHoliday_c'], axis=1)"
   ]
  },
  {
   "cell_type": "code",
   "execution_count": 160,
   "metadata": {},
   "outputs": [],
   "source": [
    "#train_store = train_store.drop(['AvgCustStore','AvgCustStoreMonth','AvgCustStoreYear'], axis=1)"
   ]
  },
  {
   "cell_type": "code",
   "execution_count": 161,
   "metadata": {},
   "outputs": [],
   "source": [
    "#train_store = train_store.drop(['AvgSalesPerCustomer'], axis=1)"
   ]
  },
  {
   "cell_type": "code",
   "execution_count": null,
   "metadata": {},
   "outputs": [],
   "source": []
  },
  {
   "cell_type": "markdown",
   "metadata": {},
   "source": [
    "##### test_dataset"
   ]
  },
  {
   "cell_type": "code",
   "execution_count": 162,
   "metadata": {},
   "outputs": [],
   "source": [
    "#test_store = test_store.drop(['DayOfWeek_1','DayOfWeek_2','DayOfWeek_3','DayOfWeek_4','DayOfWeek_5','DayOfWeek_6','DayOfWeek_7'], axis=1)"
   ]
  },
  {
   "cell_type": "code",
   "execution_count": 163,
   "metadata": {},
   "outputs": [],
   "source": [
    "#test_store = test_store.drop(['CompetitionOpenSinceYear','CompetitionOpenSinceMonth'], axis=1)"
   ]
  },
  {
   "cell_type": "code",
   "execution_count": 164,
   "metadata": {},
   "outputs": [],
   "source": [
    "#test_store = test_store.drop(['CompetitionDistance'], axis=1)"
   ]
  },
  {
   "cell_type": "code",
   "execution_count": 165,
   "metadata": {},
   "outputs": [],
   "source": [
    "test_store = test_store.drop(['StoreType_c','StoreType_d'], axis=1)"
   ]
  },
  {
   "cell_type": "code",
   "execution_count": 166,
   "metadata": {},
   "outputs": [],
   "source": [
    "test_store = test_store.drop(['Promo2','Promo2SinceYear'], axis=1)"
   ]
  },
  {
   "cell_type": "code",
   "execution_count": 167,
   "metadata": {},
   "outputs": [],
   "source": [
    "#test_store = test_store.drop(['Promo2SinceWeek'], axis=1)"
   ]
  },
  {
   "cell_type": "code",
   "execution_count": 168,
   "metadata": {},
   "outputs": [],
   "source": [
    "test_store = test_store.drop(['SchoolHoliday_1'], axis=1)"
   ]
  },
  {
   "cell_type": "code",
   "execution_count": 169,
   "metadata": {},
   "outputs": [],
   "source": [
    "#test_store = test_store.drop(['Year','Month'], axis=1)"
   ]
  },
  {
   "cell_type": "code",
   "execution_count": 170,
   "metadata": {},
   "outputs": [],
   "source": [
    "#test_store = test_store.drop(['Day'], axis=1)"
   ]
  },
  {
   "cell_type": "code",
   "execution_count": 171,
   "metadata": {},
   "outputs": [],
   "source": [
    "test_store = test_store.drop(['PromoInterval_0','PromoInterval_Feb,May,Aug,Nov','PromoInterval_Mar,Jun,Sept,Dec'], axis=1)"
   ]
  },
  {
   "cell_type": "code",
   "execution_count": 172,
   "metadata": {},
   "outputs": [],
   "source": [
    "#test_store = test_store.drop(['Assortment_a','Assortment_b','Assortment_c'], axis=1)"
   ]
  },
  {
   "cell_type": "code",
   "execution_count": 173,
   "metadata": {},
   "outputs": [],
   "source": [
    "test_store = test_store.drop(['StateHoliday_a'], axis=1)"
   ]
  },
  {
   "cell_type": "code",
   "execution_count": 174,
   "metadata": {},
   "outputs": [],
   "source": [
    "#test_store = test_store.drop(['AvgSalesPerCustomer'], axis=1)"
   ]
  },
  {
   "cell_type": "code",
   "execution_count": 175,
   "metadata": {},
   "outputs": [],
   "source": [
    "#test_store = test_store.drop(['AvgCustStore','AvgCustStoreMonth','AvgCustStoreYear'], axis=1)"
   ]
  },
  {
   "cell_type": "code",
   "execution_count": 176,
   "metadata": {},
   "outputs": [
    {
     "name": "stdout",
     "output_type": "stream",
     "text": [
      "Index(['Store', 'Sales', 'Promo', 'CompetitionOpenSinceMonth',\n",
      "       'CompetitionOpenSinceYear', 'Promo2SinceWeek', 'Year', 'Month', 'Day',\n",
      "       'DayOfYear', 'Week', 'DayOfWeek_1', 'DayOfWeek_2', 'DayOfWeek_3',\n",
      "       'DayOfWeek_4', 'DayOfWeek_5', 'DayOfWeek_6', 'DayOfWeek_7',\n",
      "       'StateHoliday_0', 'StoreType_a', 'StoreType_b', 'Assortment_a',\n",
      "       'Assortment_b', 'Assortment_c', 'SchoolHoliday_0',\n",
      "       'PromoInterval_Jan,Apr,Jul,Oct', 'AvgSalesPerCustomer',\n",
      "       'AvgSalesPerStore', 'AvgCustStore', 'AvgCustStoreMonth',\n",
      "       'AvgCustStoreYear', 'CompetitionDistance'],\n",
      "      dtype='object')\n"
     ]
    }
   ],
   "source": [
    "print(train_store.keys())"
   ]
  },
  {
   "cell_type": "code",
   "execution_count": 177,
   "metadata": {},
   "outputs": [
    {
     "name": "stdout",
     "output_type": "stream",
     "text": [
      "Index(['Id', 'Store', 'Promo', 'CompetitionOpenSinceMonth',\n",
      "       'CompetitionOpenSinceYear', 'Promo2SinceWeek', 'Year', 'Month', 'Day',\n",
      "       'DayOfYear', 'Week', 'DayOfWeek_1', 'DayOfWeek_2', 'DayOfWeek_3',\n",
      "       'DayOfWeek_4', 'DayOfWeek_5', 'DayOfWeek_6', 'DayOfWeek_7',\n",
      "       'StateHoliday_0', 'StoreType_a', 'StoreType_b', 'Assortment_a',\n",
      "       'Assortment_b', 'Assortment_c', 'SchoolHoliday_0',\n",
      "       'PromoInterval_Jan,Apr,Jul,Oct', 'AvgSalesPerCustomer',\n",
      "       'AvgSalesPerStore', 'AvgCustStore', 'AvgCustStoreMonth',\n",
      "       'AvgCustStoreYear', 'CompetitionDistance'],\n",
      "      dtype='object')\n"
     ]
    }
   ],
   "source": [
    "print(test_store.keys())"
   ]
  },
  {
   "cell_type": "code",
   "execution_count": null,
   "metadata": {},
   "outputs": [],
   "source": []
  },
  {
   "cell_type": "markdown",
   "metadata": {},
   "source": [
    "###### Algorithm"
   ]
  },
  {
   "cell_type": "code",
   "execution_count": 178,
   "metadata": {},
   "outputs": [
    {
     "name": "stdout",
     "output_type": "stream",
     "text": [
      "(513588, 31) (513588,)\n",
      "(128397, 31) (128397,)\n"
     ]
    }
   ],
   "source": [
    "X = train_store.drop('Sales', axis=1)\n",
    "y = train_store['Sales']\n",
    "y = np.log(y + 1)\n",
    "test = test_store.copy()\n",
    "data_dmatrix = xgb.DMatrix(data=X,label=y)\n",
    "\n",
    "X_train, X_test, y_train, y_test = train_test_split(X, y, test_size=0.2, random_state=42)\n",
    "print(X_train.shape, y_train.shape)\n",
    "print (X_test.shape, y_test.shape)"
   ]
  },
  {
   "cell_type": "code",
   "execution_count": 179,
   "metadata": {},
   "outputs": [],
   "source": [
    "from sklearn.cross_validation import cross_val_score, cross_val_predict\n",
    "from sklearn import metrics"
   ]
  },
  {
   "cell_type": "code",
   "execution_count": 180,
   "metadata": {},
   "outputs": [
    {
     "name": "stdout",
     "output_type": "stream",
     "text": [
      "Cross-validated scores: [0.73214692 0.84874196 0.83458311 0.84198289 0.79212676]\n",
      "0.8099163284466403\n"
     ]
    }
   ],
   "source": [
    "model = xgb.XGBRegressor(base_score=0.5, booster='gbtree', colsample_bylevel=1,\n",
    "       colsample_bytree=0.3, gamma=0, learning_rate=0.1, max_delta_step=0,\n",
    "       max_depth=13, min_child_weight=1, missing=None, n_estimators=1000,\n",
    "       n_jobs=-1, nthread=-1, objective='reg:linear', random_state=42,\n",
    "       reg_alpha=0, reg_lambda=1, scale_pos_weight=1, seed=None,\n",
    "       silent=1, subsample=1)\n",
    "scores = cross_val_score(model, X, y, cv=5, scoring =\"r2\")\n",
    "print (\"Cross-validated scores:\", scores)\n",
    "print(scores.mean())"
   ]
  },
  {
   "cell_type": "code",
   "execution_count": 181,
   "metadata": {},
   "outputs": [],
   "source": [
    "model.fit(X_train, y_train)\n",
    "yr = model.predict(X_test)"
   ]
  },
  {
   "cell_type": "code",
   "execution_count": 182,
   "metadata": {},
   "outputs": [],
   "source": [
    "def rmspe(y_true, y_pred):\n",
    "    w = np.zeros(y_true.shape, dtype=float)\n",
    "    index = y_true != 0\n",
    "    w[index] = 1.0 / (y_true[index])\n",
    "    diff = y_true - y_pred\n",
    "    diff_percentage = diff * w\n",
    "    diff_percentage_squared = diff_percentage ** 2\n",
    "    rmspe = np.sqrt(np.mean(diff_percentage_squared))\n",
    "    return rmspe"
   ]
  },
  {
   "cell_type": "code",
   "execution_count": 183,
   "metadata": {},
   "outputs": [
    {
     "name": "stdout",
     "output_type": "stream",
     "text": [
      "RMSPE: 0.01161299358296387\n"
     ]
    }
   ],
   "source": [
    "print(\"RMSPE: \" + str(rmspe(y_true=y_test, y_pred=yr)))"
   ]
  },
  {
   "cell_type": "markdown",
   "metadata": {},
   "source": [
    "###### Convert to actual value from Logarithm "
   ]
  },
  {
   "cell_type": "code",
   "execution_count": 184,
   "metadata": {},
   "outputs": [],
   "source": [
    "yr = np.exp(yr) - 1"
   ]
  },
  {
   "cell_type": "code",
   "execution_count": 185,
   "metadata": {},
   "outputs": [],
   "source": [
    "y_test = np.exp(y_test) - 1"
   ]
  },
  {
   "cell_type": "code",
   "execution_count": 186,
   "metadata": {},
   "outputs": [
    {
     "name": "stdout",
     "output_type": "stream",
     "text": [
      "RMSPE: 0.10152175174121816\n"
     ]
    }
   ],
   "source": [
    "print(\"RMSPE: \" + str(rmspe(y_true=y_test, y_pred=yr)))"
   ]
  },
  {
   "cell_type": "code",
   "execution_count": null,
   "metadata": {},
   "outputs": [],
   "source": []
  },
  {
   "cell_type": "markdown",
   "metadata": {},
   "source": [
    "###### Submission"
   ]
  },
  {
   "cell_type": "code",
   "execution_count": 187,
   "metadata": {},
   "outputs": [],
   "source": [
    "store_ids = test[\"Id\"]\n",
    "test.drop([\"Id\"], axis=1, inplace=True)\n",
    "test = test.reindex(columns=X_train.columns, fill_value=0)\n",
    "yr = model.predict(test)\n",
    "yr = np.exp(yr) - 1"
   ]
  },
  {
   "cell_type": "code",
   "execution_count": 188,
   "metadata": {},
   "outputs": [],
   "source": [
    "predictions = Series()"
   ]
  },
  {
   "cell_type": "code",
   "execution_count": 189,
   "metadata": {},
   "outputs": [],
   "source": [
    "predictions = predictions.append(Series(yr, index=store_ids))\n",
    "predictions = predictions.append(Series(0, index=closed_store_ids))"
   ]
  },
  {
   "cell_type": "code",
   "execution_count": 190,
   "metadata": {},
   "outputs": [
    {
     "name": "stdout",
     "output_type": "stream",
     "text": [
      "Predictions saved.\n"
     ]
    }
   ],
   "source": [
    "submission = pd.DataFrame({\"Id\": predictions.index, \"Sales\": predictions.values})\n",
    "submission.to_csv(\"Submission/XGB_xgb.csv\", index=False)\n",
    "print(\"Predictions saved.\")"
   ]
  },
  {
   "cell_type": "code",
   "execution_count": null,
   "metadata": {},
   "outputs": [],
   "source": []
  },
  {
   "cell_type": "code",
   "execution_count": null,
   "metadata": {},
   "outputs": [],
   "source": []
  }
 ],
 "metadata": {
  "kernelspec": {
   "display_name": "Python 3",
   "language": "python",
   "name": "python3"
  },
  "language_info": {
   "codemirror_mode": {
    "name": "ipython",
    "version": 3
   },
   "file_extension": ".py",
   "mimetype": "text/x-python",
   "name": "python",
   "nbconvert_exporter": "python",
   "pygments_lexer": "ipython3",
   "version": "3.6.5"
  }
 },
 "nbformat": 4,
 "nbformat_minor": 2
}
