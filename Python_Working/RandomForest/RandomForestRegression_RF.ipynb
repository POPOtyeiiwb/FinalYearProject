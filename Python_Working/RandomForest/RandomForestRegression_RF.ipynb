{
 "cells": [
  {
   "cell_type": "code",
   "execution_count": 1,
   "metadata": {},
   "outputs": [
    {
     "name": "stderr",
     "output_type": "stream",
     "text": [
      "C:\\Users\\TP040804\\AppData\\Local\\Continuum\\anaconda3\\lib\\site-packages\\sklearn\\cross_validation.py:41: DeprecationWarning: This module was deprecated in version 0.18 in favor of the model_selection module into which all the refactored classes and functions are moved. Also note that the interface of the new CV iterators are different from that of this module. This module will be removed in 0.20.\n",
      "  \"This module will be removed in 0.20.\", DeprecationWarning)\n"
     ]
    }
   ],
   "source": [
    "import datetime as dt\n",
    "import pandas as pd\n",
    "from pandas import Series, DataFrame\n",
    "import numpy as np\n",
    "import seaborn as sns\n",
    "from matplotlib import pyplot as plt\n",
    "from sklearn.cross_validation import  train_test_split\n",
    "from sklearn.ensemble import RandomForestRegressor\n",
    "pd.options.mode.chained_assignment = None"
   ]
  },
  {
   "cell_type": "code",
   "execution_count": 2,
   "metadata": {},
   "outputs": [],
   "source": [
    "def is_nan(val):\n",
    "    return val != val\n",
    "\n",
    "def less_than_ten(val):\n",
    "    if int(val) < 10:\n",
    "        return \"0\" + val\n",
    "    else:\n",
    "        return val"
   ]
  },
  {
   "cell_type": "code",
   "execution_count": 3,
   "metadata": {},
   "outputs": [
    {
     "data": {
      "text/plain": [
       "'C:\\\\Users\\\\TP040804\\\\FYP_Final\\\\RandomForest'"
      ]
     },
     "execution_count": 3,
     "metadata": {},
     "output_type": "execute_result"
    }
   ],
   "source": [
    "pwd"
   ]
  },
  {
   "cell_type": "code",
   "execution_count": 4,
   "metadata": {},
   "outputs": [],
   "source": [
    "import os\n",
    "os.chdir ('D:\\Semester 2 (Final)\\FYP (Final)\\Dataset\\Rossman\\Working\\Modelling_dataset')"
   ]
  },
  {
   "cell_type": "code",
   "execution_count": 5,
   "metadata": {},
   "outputs": [],
   "source": [
    "train_store = pd.read_csv(\"ModellingTrainData2.csv\")\n",
    "test_store = pd.read_csv(\"ModellingTestData2.csv\")"
   ]
  },
  {
   "cell_type": "markdown",
   "metadata": {},
   "source": [
    "###### Remove all Closed Stores where Sales = 0 in train dataset"
   ]
  },
  {
   "cell_type": "code",
   "execution_count": 6,
   "metadata": {},
   "outputs": [],
   "source": [
    "train_store = train_store[train_store[\"Open\"] != 0]"
   ]
  },
  {
   "cell_type": "markdown",
   "metadata": {},
   "source": [
    "###### Save IDs of Closed Stores (\"Sales\" = 0 assigned later) & Remove Rows"
   ]
  },
  {
   "cell_type": "code",
   "execution_count": 7,
   "metadata": {},
   "outputs": [],
   "source": [
    "closed_store_ids =test_store[\"Id\"][test_store[\"Open\"] == 0].values\n",
    "test_store = test_store[test_store[\"Open\"] != 0]"
   ]
  },
  {
   "cell_type": "markdown",
   "metadata": {},
   "source": [
    "###### Log_Competition Distance"
   ]
  },
  {
   "cell_type": "markdown",
   "metadata": {},
   "source": [
    "###### train dataset"
   ]
  },
  {
   "cell_type": "code",
   "execution_count": 8,
   "metadata": {},
   "outputs": [],
   "source": [
    "LogCompetition = train_store['CompetitionDistance']\n",
    "train_store = train_store.drop(['CompetitionDistance'], axis=1)"
   ]
  },
  {
   "cell_type": "code",
   "execution_count": 9,
   "metadata": {},
   "outputs": [
    {
     "data": {
      "text/plain": [
       "0    7.147559\n",
       "1    7.147559\n",
       "2    7.147559\n",
       "3    7.147559\n",
       "4    7.147559\n",
       "Name: CompetitionDistance, dtype: float64"
      ]
     },
     "execution_count": 9,
     "metadata": {},
     "output_type": "execute_result"
    }
   ],
   "source": [
    "LogCompetition = np.log(LogCompetition + 1)\n",
    "LogCompetition.head()"
   ]
  },
  {
   "cell_type": "code",
   "execution_count": 10,
   "metadata": {},
   "outputs": [],
   "source": [
    "train_store['CompetitionDistance'] = LogCompetition "
   ]
  },
  {
   "cell_type": "markdown",
   "metadata": {},
   "source": [
    "###### test dataset"
   ]
  },
  {
   "cell_type": "code",
   "execution_count": 11,
   "metadata": {},
   "outputs": [
    {
     "data": {
      "text/plain": [
       "0    7.147559\n",
       "1    7.147559\n",
       "2    7.147559\n",
       "3    7.147559\n",
       "5    7.147559\n",
       "Name: CompetitionDistance, dtype: float64"
      ]
     },
     "execution_count": 11,
     "metadata": {},
     "output_type": "execute_result"
    }
   ],
   "source": [
    "LogCompetition2 = test_store['CompetitionDistance']\n",
    "test_store = test_store.drop(['CompetitionDistance'], axis=1)\n",
    "LogCompetition2 = np.log(LogCompetition2 + 1)\n",
    "LogCompetition2.head()"
   ]
  },
  {
   "cell_type": "code",
   "execution_count": 12,
   "metadata": {},
   "outputs": [],
   "source": [
    "test_store['CompetitionDistance'] = LogCompetition2 "
   ]
  },
  {
   "cell_type": "markdown",
   "metadata": {},
   "source": [
    "###### Drop Customer and Open feature"
   ]
  },
  {
   "cell_type": "code",
   "execution_count": 13,
   "metadata": {},
   "outputs": [],
   "source": [
    "train_store = train_store.drop(['Customers'], axis=1)"
   ]
  },
  {
   "cell_type": "code",
   "execution_count": 14,
   "metadata": {},
   "outputs": [],
   "source": [
    "train_store = train_store.drop(['Open'], axis=1)"
   ]
  },
  {
   "cell_type": "code",
   "execution_count": 15,
   "metadata": {},
   "outputs": [],
   "source": [
    "test_store = test_store.drop(['Open'], axis=1)"
   ]
  },
  {
   "cell_type": "markdown",
   "metadata": {},
   "source": [
    "###### Selecting top 13 feature  from Correlation"
   ]
  },
  {
   "cell_type": "markdown",
   "metadata": {},
   "source": [
    "##### Train"
   ]
  },
  {
   "cell_type": "code",
   "execution_count": 16,
   "metadata": {},
   "outputs": [],
   "source": [
    "#train_store = train_store.drop(['SchoolHoliday_1','SchoolHoliday_0'], axis=1)"
   ]
  },
  {
   "cell_type": "code",
   "execution_count": 17,
   "metadata": {},
   "outputs": [],
   "source": [
    "#train_store = train_store.drop(['Promo2SinceWeek'], axis=1)"
   ]
  },
  {
   "cell_type": "code",
   "execution_count": 18,
   "metadata": {},
   "outputs": [],
   "source": [
    "#train_store = train_store.drop(['CompetitionDistance'], axis=1)"
   ]
  },
  {
   "cell_type": "code",
   "execution_count": 19,
   "metadata": {},
   "outputs": [],
   "source": [
    "#train_store = train_store.drop(['CompetitionOpenSinceMonth'], axis=1)"
   ]
  },
  {
   "cell_type": "code",
   "execution_count": 20,
   "metadata": {},
   "outputs": [],
   "source": [
    "#train_store = train_store.drop(['Month'], axis=1)"
   ]
  },
  {
   "cell_type": "code",
   "execution_count": 21,
   "metadata": {},
   "outputs": [],
   "source": [
    "#train_store = train_store.drop(['DayOfYear'], axis=1)"
   ]
  },
  {
   "cell_type": "code",
   "execution_count": 22,
   "metadata": {},
   "outputs": [],
   "source": [
    "train_store = train_store.drop(['StateHoliday_b','StateHoliday_c'], axis=1)"
   ]
  },
  {
   "cell_type": "code",
   "execution_count": 23,
   "metadata": {},
   "outputs": [],
   "source": [
    "#train_store = train_store.drop(['StateHoliday_0','StateHoliday_a'], axis=1)"
   ]
  },
  {
   "cell_type": "code",
   "execution_count": 24,
   "metadata": {},
   "outputs": [],
   "source": [
    "#train_store = train_store.drop(['Promo2SinceYear'], axis=1)"
   ]
  },
  {
   "cell_type": "code",
   "execution_count": 25,
   "metadata": {},
   "outputs": [],
   "source": [
    "#train_store = train_store.drop(['AvgSalesPerCustomer'], axis=1)"
   ]
  },
  {
   "cell_type": "code",
   "execution_count": 26,
   "metadata": {},
   "outputs": [],
   "source": [
    "#train_store = train_store.drop(['Promo2'], axis=1)"
   ]
  },
  {
   "cell_type": "code",
   "execution_count": 27,
   "metadata": {},
   "outputs": [],
   "source": [
    "#train_store = train_store.drop(['PromoInterval_0','PromoInterval_Feb,May,Aug,Nov','PromoInterval_Jan,Apr,Jul,Oct','PromoInterval_Mar,Jun,Sept,Dec'], axis=1)"
   ]
  },
  {
   "cell_type": "code",
   "execution_count": 28,
   "metadata": {},
   "outputs": [],
   "source": [
    "#train_store = train_store.drop(['Assortment_a','Assortment_b','Assortment_c'], axis=1)"
   ]
  },
  {
   "cell_type": "code",
   "execution_count": 29,
   "metadata": {},
   "outputs": [],
   "source": [
    "#train_store = train_store.drop(['DayOfWeek_2','DayOfWeek_4','DayOfWeek_5','DayOfWeek_6','DayOfWeek_7'], axis=1)"
   ]
  },
  {
   "cell_type": "code",
   "execution_count": null,
   "metadata": {},
   "outputs": [],
   "source": []
  },
  {
   "cell_type": "markdown",
   "metadata": {},
   "source": [
    "##### test"
   ]
  },
  {
   "cell_type": "code",
   "execution_count": 30,
   "metadata": {},
   "outputs": [],
   "source": [
    "#test_store = test_store.drop(['SchoolHoliday_1','SchoolHoliday_0'], axis=1)"
   ]
  },
  {
   "cell_type": "code",
   "execution_count": 31,
   "metadata": {},
   "outputs": [],
   "source": [
    "#test_store = test_store.drop(['Year'], axis=1)"
   ]
  },
  {
   "cell_type": "code",
   "execution_count": 32,
   "metadata": {},
   "outputs": [],
   "source": [
    "#test_store = test_store.drop(['CompetitionDistance'], axis=1)"
   ]
  },
  {
   "cell_type": "code",
   "execution_count": 33,
   "metadata": {},
   "outputs": [],
   "source": [
    "#test_store = test_store.drop(['CompetitionOpenSinceMonth'], axis=1)"
   ]
  },
  {
   "cell_type": "code",
   "execution_count": 34,
   "metadata": {},
   "outputs": [],
   "source": [
    "#test_store = test_store.drop(['Month'], axis=1)"
   ]
  },
  {
   "cell_type": "code",
   "execution_count": 35,
   "metadata": {},
   "outputs": [],
   "source": [
    "#test_store = test_store.drop(['DayOfYear'], axis=1)"
   ]
  },
  {
   "cell_type": "code",
   "execution_count": 36,
   "metadata": {},
   "outputs": [],
   "source": [
    "#test_store = test_store.drop(['StateHoliday_0','StateHoliday_a'], axis=1)"
   ]
  },
  {
   "cell_type": "code",
   "execution_count": 37,
   "metadata": {},
   "outputs": [],
   "source": [
    "#test_store = test_store.drop(['AvgSalesPerCustomer'], axis=1)"
   ]
  },
  {
   "cell_type": "code",
   "execution_count": 38,
   "metadata": {},
   "outputs": [],
   "source": [
    "#test_store = test_store.drop(['Promo2SinceYear'], axis=1)"
   ]
  },
  {
   "cell_type": "code",
   "execution_count": 39,
   "metadata": {},
   "outputs": [],
   "source": [
    "#test_store = test_store.drop(['Promo2'], axis=1)"
   ]
  },
  {
   "cell_type": "code",
   "execution_count": 40,
   "metadata": {},
   "outputs": [],
   "source": [
    "#test_store = test_store.drop(['PromoInterval_Feb,May,Aug,Nov','PromoInterval_Jan,Apr,Jul,Oct','PromoInterval_Mar,Jun,Sept,Dec'], axis=1)"
   ]
  },
  {
   "cell_type": "code",
   "execution_count": 41,
   "metadata": {},
   "outputs": [],
   "source": [
    "#test_store = test_store.drop(['PromoInterval_0'], axis=1)"
   ]
  },
  {
   "cell_type": "code",
   "execution_count": 42,
   "metadata": {},
   "outputs": [],
   "source": [
    "#test_store = test_store.drop(['Assortment_a','Assortment_b','Assortment_c'], axis=1)"
   ]
  },
  {
   "cell_type": "code",
   "execution_count": 43,
   "metadata": {},
   "outputs": [],
   "source": [
    "#test_store = test_store.drop(['SchoolHoliday_1','SchoolHoliday_0'], axis=1)"
   ]
  },
  {
   "cell_type": "code",
   "execution_count": 44,
   "metadata": {},
   "outputs": [],
   "source": [
    "#test_store = test_store.drop(['Promo2SinceWeek'], axis=1)"
   ]
  },
  {
   "cell_type": "code",
   "execution_count": 45,
   "metadata": {},
   "outputs": [],
   "source": [
    "#test_store = test_store.drop(['DayOfWeek_2','DayOfWeek_4','DayOfWeek_5','DayOfWeek_6','DayOfWeek_7'], axis=1)"
   ]
  },
  {
   "cell_type": "code",
   "execution_count": null,
   "metadata": {},
   "outputs": [],
   "source": []
  },
  {
   "cell_type": "code",
   "execution_count": 46,
   "metadata": {},
   "outputs": [
    {
     "name": "stdout",
     "output_type": "stream",
     "text": [
      "Index(['Store', 'Sales', 'Promo', 'CompetitionOpenSinceMonth',\n",
      "       'CompetitionOpenSinceYear', 'Promo2', 'Promo2SinceWeek',\n",
      "       'Promo2SinceYear', 'Year', 'Month', 'Day', 'DayOfYear', 'Week',\n",
      "       'DayOfWeek_1', 'DayOfWeek_2', 'DayOfWeek_3', 'DayOfWeek_4',\n",
      "       'DayOfWeek_5', 'DayOfWeek_6', 'DayOfWeek_7', 'StateHoliday_0',\n",
      "       'StateHoliday_a', 'StoreType_a', 'StoreType_b', 'StoreType_c',\n",
      "       'StoreType_d', 'Assortment_a', 'Assortment_b', 'Assortment_c',\n",
      "       'SchoolHoliday_0', 'SchoolHoliday_1', 'PromoInterval_0',\n",
      "       'PromoInterval_Feb,May,Aug,Nov', 'PromoInterval_Jan,Apr,Jul,Oct',\n",
      "       'PromoInterval_Mar,Jun,Sept,Dec', 'AvgSalesPerCustomer',\n",
      "       'AvgSalesPerStore', 'AvgCustStore', 'AvgCustStoreMonth',\n",
      "       'AvgCustStoreYear', 'CompetitionDistance'],\n",
      "      dtype='object')\n"
     ]
    }
   ],
   "source": [
    "print(train_store.keys())"
   ]
  },
  {
   "cell_type": "code",
   "execution_count": 47,
   "metadata": {},
   "outputs": [
    {
     "name": "stdout",
     "output_type": "stream",
     "text": [
      "Index(['Id', 'Store', 'Promo', 'CompetitionOpenSinceMonth',\n",
      "       'CompetitionOpenSinceYear', 'Promo2', 'Promo2SinceWeek',\n",
      "       'Promo2SinceYear', 'Year', 'Month', 'Day', 'DayOfYear', 'Week',\n",
      "       'DayOfWeek_1', 'DayOfWeek_2', 'DayOfWeek_3', 'DayOfWeek_4',\n",
      "       'DayOfWeek_5', 'DayOfWeek_6', 'DayOfWeek_7', 'StateHoliday_0',\n",
      "       'StateHoliday_a', 'StoreType_a', 'StoreType_b', 'StoreType_c',\n",
      "       'StoreType_d', 'Assortment_a', 'Assortment_b', 'Assortment_c',\n",
      "       'SchoolHoliday_0', 'SchoolHoliday_1', 'PromoInterval_0',\n",
      "       'PromoInterval_Feb,May,Aug,Nov', 'PromoInterval_Jan,Apr,Jul,Oct',\n",
      "       'PromoInterval_Mar,Jun,Sept,Dec', 'AvgSalesPerCustomer',\n",
      "       'AvgSalesPerStore', 'AvgCustStore', 'AvgCustStoreMonth',\n",
      "       'AvgCustStoreYear', 'CompetitionDistance'],\n",
      "      dtype='object')\n"
     ]
    }
   ],
   "source": [
    "print(test_store.keys())"
   ]
  },
  {
   "cell_type": "code",
   "execution_count": null,
   "metadata": {},
   "outputs": [],
   "source": []
  },
  {
   "cell_type": "code",
   "execution_count": null,
   "metadata": {},
   "outputs": [],
   "source": []
  },
  {
   "cell_type": "code",
   "execution_count": 48,
   "metadata": {},
   "outputs": [
    {
     "name": "stdout",
     "output_type": "stream",
     "text": [
      "(513588, 40) (513588,)\n",
      "(128397, 40) (128397,)\n"
     ]
    }
   ],
   "source": [
    "X = train_store.drop('Sales', axis=1)\n",
    "y = train_store['Sales']\n",
    "y = np.log(y + 1)\n",
    "test = test_store.copy()\n",
    "\n",
    "X_train, X_test, y_train, y_test = train_test_split(X, y, test_size=0.2, random_state=42)\n",
    "print(X_train.shape, y_train.shape)\n",
    "print (X_test.shape, y_test.shape)"
   ]
  },
  {
   "cell_type": "code",
   "execution_count": 49,
   "metadata": {},
   "outputs": [],
   "source": [
    "from sklearn.cross_validation import cross_val_score, cross_val_predict\n",
    "from sklearn import metrics"
   ]
  },
  {
   "cell_type": "code",
   "execution_count": 50,
   "metadata": {},
   "outputs": [
    {
     "name": "stdout",
     "output_type": "stream",
     "text": [
      "Cross-validated scores: [0.79406538 0.80654951 0.81651568 0.79634162 0.78550608]\n",
      "0.7997956544723148\n"
     ]
    }
   ],
   "source": [
    "model = RandomForestRegressor(bootstrap=True, criterion='mse', max_depth=None,\n",
    "           max_features='auto', max_leaf_nodes=None, min_samples_leaf=1,\n",
    "           min_samples_split=2, min_weight_fraction_leaf=0.0,\n",
    "           n_estimators=100, n_jobs=-1, oob_score=False, random_state=42,\n",
    "           verbose=0, warm_start=False)\n",
    "scores = cross_val_score(model, X, y, cv=5, scoring =\"r2\")\n",
    "print (\"Cross-validated scores:\", scores)\n",
    "print(scores.mean())"
   ]
  },
  {
   "cell_type": "code",
   "execution_count": 51,
   "metadata": {},
   "outputs": [
    {
     "data": {
      "text/plain": [
       "RandomForestRegressor(bootstrap=True, criterion='mse', max_depth=None,\n",
       "           max_features='auto', max_leaf_nodes=None,\n",
       "           min_impurity_decrease=0.0, min_impurity_split=None,\n",
       "           min_samples_leaf=1, min_samples_split=2,\n",
       "           min_weight_fraction_leaf=0.0, n_estimators=100, n_jobs=-1,\n",
       "           oob_score=False, random_state=42, verbose=0, warm_start=False)"
      ]
     },
     "execution_count": 51,
     "metadata": {},
     "output_type": "execute_result"
    }
   ],
   "source": [
    "model.fit(X_train, y_train)"
   ]
  },
  {
   "cell_type": "code",
   "execution_count": 52,
   "metadata": {},
   "outputs": [],
   "source": [
    "yr = model.predict(X_test)"
   ]
  },
  {
   "cell_type": "code",
   "execution_count": 53,
   "metadata": {},
   "outputs": [],
   "source": [
    "def rmspe(y_true, y_pred):\n",
    "    w = np.zeros(y_true.shape, dtype=float)\n",
    "    index = y_true != 0\n",
    "    w[index] = 1.0 / (y_true[index])\n",
    "    diff = y_true - y_pred\n",
    "    diff_percentage = diff * w\n",
    "    diff_percentage_squared = diff_percentage ** 2\n",
    "    rmspe = np.sqrt(np.mean(diff_percentage_squared))\n",
    "    return rmspe"
   ]
  },
  {
   "cell_type": "code",
   "execution_count": 54,
   "metadata": {},
   "outputs": [
    {
     "name": "stdout",
     "output_type": "stream",
     "text": [
      "RMSPE: 0.013385169852075636\n"
     ]
    }
   ],
   "source": [
    "print(\"RMSPE: \" + str(rmspe(y_true=y_test, y_pred=yr)))"
   ]
  },
  {
   "cell_type": "markdown",
   "metadata": {},
   "source": [
    "###### Convert to actual value from Logarithm "
   ]
  },
  {
   "cell_type": "code",
   "execution_count": 55,
   "metadata": {},
   "outputs": [],
   "source": [
    "yr = np.exp(yr) - 1"
   ]
  },
  {
   "cell_type": "code",
   "execution_count": 56,
   "metadata": {},
   "outputs": [],
   "source": [
    "y_test = np.exp(y_test) - 1"
   ]
  },
  {
   "cell_type": "code",
   "execution_count": 57,
   "metadata": {},
   "outputs": [
    {
     "name": "stdout",
     "output_type": "stream",
     "text": [
      "RMSPE: 0.11967094506709394\n"
     ]
    }
   ],
   "source": [
    "print(\"RMSPE: \" + str(rmspe(y_true=y_test, y_pred=yr)))"
   ]
  },
  {
   "cell_type": "code",
   "execution_count": null,
   "metadata": {},
   "outputs": [],
   "source": []
  },
  {
   "cell_type": "markdown",
   "metadata": {},
   "source": [
    "###### Submission"
   ]
  },
  {
   "cell_type": "code",
   "execution_count": 58,
   "metadata": {},
   "outputs": [],
   "source": [
    "store_ids = test[\"Id\"]\n",
    "test.drop([\"Id\"], axis=1, inplace=True)\n",
    "test = test.reindex(columns=X_train.columns, fill_value=0)\n",
    "yr = model.predict(test)\n",
    "yr = np.exp(yr) - 1"
   ]
  },
  {
   "cell_type": "code",
   "execution_count": 59,
   "metadata": {},
   "outputs": [],
   "source": [
    "predictions = Series()"
   ]
  },
  {
   "cell_type": "code",
   "execution_count": 60,
   "metadata": {},
   "outputs": [],
   "source": [
    "predictions = predictions.append(Series(yr, index=store_ids))\n",
    "predictions = predictions.append(Series(0, index=closed_store_ids))"
   ]
  },
  {
   "cell_type": "code",
   "execution_count": 61,
   "metadata": {},
   "outputs": [
    {
     "name": "stdout",
     "output_type": "stream",
     "text": [
      "Predictions saved.\n"
     ]
    }
   ],
   "source": [
    "submission = pd.DataFrame({\"Id\": predictions.index, \"Sales\": predictions.values})\n",
    "submission.to_csv(\"Submission/RandomForestRegression_RF.csv\", index=False)\n",
    "print(\"Predictions saved.\")"
   ]
  },
  {
   "cell_type": "code",
   "execution_count": null,
   "metadata": {},
   "outputs": [],
   "source": []
  },
  {
   "cell_type": "code",
   "execution_count": null,
   "metadata": {},
   "outputs": [],
   "source": []
  },
  {
   "cell_type": "code",
   "execution_count": null,
   "metadata": {},
   "outputs": [],
   "source": []
  },
  {
   "cell_type": "code",
   "execution_count": null,
   "metadata": {},
   "outputs": [],
   "source": []
  },
  {
   "cell_type": "code",
   "execution_count": null,
   "metadata": {},
   "outputs": [],
   "source": []
  },
  {
   "cell_type": "code",
   "execution_count": 79,
   "metadata": {},
   "outputs": [
    {
     "data": {
      "text/plain": [
       "RandomForestRegressor(bootstrap=False, criterion='mse', max_depth=3,\n",
       "           max_features='auto', max_leaf_nodes=None,\n",
       "           min_impurity_decrease=0.0, min_impurity_split=None,\n",
       "           min_samples_leaf=1, min_samples_split=2,\n",
       "           min_weight_fraction_leaf=0.0, n_estimators=1, n_jobs=-1,\n",
       "           oob_score=False, random_state=None, verbose=0, warm_start=False)"
      ]
     },
     "execution_count": 79,
     "metadata": {},
     "output_type": "execute_result"
    }
   ],
   "source": [
    "m = RandomForestRegressor(n_estimators=1, max_depth=3, bootstrap=False, n_jobs=-1)\n",
    "m.fit(X_train, y_train)"
   ]
  },
  {
   "cell_type": "code",
   "execution_count": 85,
   "metadata": {},
   "outputs": [],
   "source": [
    "from sklearn.tree import export_graphviz"
   ]
  },
  {
   "cell_type": "code",
   "execution_count": 91,
   "metadata": {},
   "outputs": [
    {
     "data": {
      "image/png": "[encoded data removed]",
      "text/plain": [
       "<IPython.core.display.Image object>"
      ]
     },
     "metadata": {},
     "output_type": "display_data"
    }
   ],
   "source": [
    "from IPython.display import display, Image\n",
    "import pydotplus\n",
    "from sklearn import tree\n",
    "\n",
    "# Now plot the trees individually\n",
    "for dtree in m.estimators_:\n",
    "    dot_data = tree.export_graphviz(dtree\n",
    "                                    , out_file = None\n",
    "                                    , filled   = True\n",
    "                                    , rounded  = True\n",
    "                                    , special_characters = True)  \n",
    "    graph = pydotplus.graph_from_dot_data(dot_data)  \n",
    "    img = Image(graph.create_png())\n",
    "    display(img)\n",
    "   # draw_tree(inp_tree = dtree)"
   ]
  },
  {
   "cell_type": "code",
   "execution_count": null,
   "metadata": {},
   "outputs": [],
   "source": []
  }
 ],
 "metadata": {
  "kernelspec": {
   "display_name": "Python 3",
   "language": "python",
   "name": "python3"
  },
  "language_info": {
   "codemirror_mode": {
    "name": "ipython",
    "version": 3
   },
   "file_extension": ".py",
   "mimetype": "text/x-python",
   "name": "python",
   "nbconvert_exporter": "python",
   "pygments_lexer": "ipython3",
   "version": "3.6.5"
  }
 },
 "nbformat": 4,
 "nbformat_minor": 2
}
